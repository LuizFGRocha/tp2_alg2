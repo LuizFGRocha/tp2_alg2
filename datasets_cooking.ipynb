{
 "cells": [
  {
   "cell_type": "code",
   "execution_count": 1,
   "metadata": {},
   "outputs": [],
   "source": [
    "import numpy as np\n",
    "import pandas as pd\n",
    "from ucimlrepo import fetch_ucirepo "
   ]
  },
  {
   "cell_type": "code",
   "execution_count": 2,
   "metadata": {},
   "outputs": [],
   "source": [
    "dataset_ids = {\n",
    "  'yeast':110, \n",
    "  'banknote': 267, \n",
    "  'beans':602, \n",
    "  'rice': 545, \n",
    "  'raisins': 850,\n",
    "  'telescope': 159,\n",
    "  'wine_quality': 186,\n",
    "  'abalone': 1,\n",
    "  'maintenance': 601,\n",
    "  'obesity': 544\n",
    "}"
   ]
  },
  {
   "cell_type": "code",
   "execution_count": 3,
   "metadata": {},
   "outputs": [],
   "source": [
    "datasets = {}\n",
    "variables = {}\n",
    "targets = {}\n",
    "\n",
    "for dataset_name, dataset_id in dataset_ids.items():\n",
    "  repo = fetch_ucirepo(id=dataset_id)\n",
    "  datasets[dataset_name] = repo.data.features\n",
    "  variables[dataset_name] = repo.variables\n",
    "  targets[dataset_name] = repo.data.targets\n",
    "\n",
    "# Filters data that isn't continuous\n",
    "for dataset_name, data in variables.items():\n",
    "  to_drop = data[(data['type'] != 'Continuous') | (data['role'] != 'Feature')]['name'].to_list()\n",
    "\n",
    "  for column in to_drop:\n",
    "    try:\n",
    "      datasets[dataset_name] = datasets[dataset_name].drop(column, axis='columns')\n",
    "    except KeyError:\n",
    "      pass"
   ]
  },
  {
   "cell_type": "code",
   "execution_count": 4,
   "metadata": {},
   "outputs": [],
   "source": [
    "code_map = {}\n",
    "\n",
    "# Codifica targets como inteiros\n",
    "for dataset_name, target in targets.items():\n",
    "  cat = pd.Categorical(target.iloc[:,0])\n",
    "  targets[dataset_name] = cat.codes\n",
    "  # Dictionary to map the target to the original values\n",
    "  code_map[dataset_name] = {i: x for i, x in enumerate(cat.categories)}"
   ]
  },
  {
   "cell_type": "code",
   "execution_count": 5,
   "metadata": {},
   "outputs": [],
   "source": [
    "for dataset_name, data in datasets.items():\n",
    "  centers = np.unique(targets[dataset_name]).size\n",
    "\n",
    "  with open('real-instances/' + dataset_name + '.dat', 'w') as f:\n",
    "    f.write(f\"CENTERS:{centers}\\n\")\n",
    "    # f.write(f\"COV:{args.cov_list}\\n\") # N sei oq fz com isso aq\n",
    "    # f.write(f\"POINTS_PER_CENTER:{0}\\n\") # Acho que isso n se aplica aq\n",
    "    # f.write(f\"CENTERS_COORDS:{args.centers}\\n\") # Isso a gente não sabe a princípio nos dados reais\n",
    "    f.write(f\"LABEL_DICT:{str(code_map[dataset_name]).replace(':', '=')}\\n\")\n",
    "    f.write(f\"POINTS/LABELS: \\n\")\n",
    "\n",
    "    for index, row in data.sample(700, random_state=42).iterrows():\n",
    "      f.write(';'.join([str(x) for x in row]) + ';' + str(targets[dataset_name][index]) + '\\n')"
   ]
  }
 ],
 "metadata": {
  "kernelspec": {
   "display_name": "base",
   "language": "python",
   "name": "python3"
  },
  "language_info": {
   "codemirror_mode": {
    "name": "ipython",
    "version": 3
   },
   "file_extension": ".py",
   "mimetype": "text/x-python",
   "name": "python",
   "nbconvert_exporter": "python",
   "pygments_lexer": "ipython3",
   "version": "3.12.2"
  }
 },
 "nbformat": 4,
 "nbformat_minor": 2
}
